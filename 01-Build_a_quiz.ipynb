{
 "cells": [
  {
   "cell_type": "markdown",
   "metadata": {
    "colab_type": "text",
    "id": "FY347VxWs_bJ"
   },
   "source": [
    "# Build a quizz\n",
    "\n",
    "---\n",
    "\n",
    "\n"
   ]
  },
  {
   "cell_type": "markdown",
   "metadata": {
    "colab_type": "text",
    "id": "qJizpyqVwYnF"
   },
   "source": [
    "Let's tackle our first project together. Find a partner and start coding a quiz together! Your program should: \n",
    "\n",
    "1. Ask a question to a user via the console \n",
    "2. Verify whether the answer is correct or not \n",
    "3. If the answer is correct, you should print out: `Good job! This is the right answer`\n",
    "\n",
    "* Else, it should print out : `Too bad! that is not the correct answer`\n",
    "\n",
    "4. Ask three questions following this model.\n",
    "\n"
   ]
  },
  {
   "cell_type": "code",
   "execution_count": 8,
   "metadata": {
    "colab": {
     "base_uri": "https://localhost:8080/",
     "height": 136
    },
    "colab_type": "code",
    "id": "EQxWuVl7yFoU",
    "outputId": "cf3ee10c-9d8f-4d96-82b0-f730321d4a2f"
   },
   "outputs": [
    {
     "name": "stdout",
     "output_type": "stream",
     "text": [
      "Too bad! That is not the correct answer. You have 2 chances left\n",
      "Too bad! That is not the correct answer. You have 1 chances left\n",
      "Oh no, you lost the quiz...\n",
      "Too bad! That is not the correct answer. You have 2 chances left\n",
      "Too bad! That is not the correct answer. You have 1 chances left\n",
      "Oh no, you lost the quiz...\n",
      "Too bad! That is not the correct answer. You have 2 chances left\n",
      "Too bad! That is not the correct answer. You have 1 chances left\n",
      "Oh no, you lost the quiz...\n"
     ]
    }
   ],
   "source": [
    "question_1 =input(\"Who bosses Tesla ?\")\n",
    "compteur=3\n",
    "while question_1 != \"Elon Musk\" and  \"elon musk\":\n",
    "    compteur-=1\n",
    "    if compteur !=0 :\n",
    "        print(f'Too bad! That is not the correct answer. You have {compteur} chances left')\n",
    "        question_1 = input(\"Who bosses Tesla ?\")\n",
    "    else :\n",
    "        print(\"Oh no, you lost the quiz...\")\n",
    "        break\n",
    "if question_1 ==\"Elon Musk\" :\n",
    "    print(\"Bravo, you got this right. Let's continue with the second question\")\n",
    "question_2 =input(\"When he was born ?\")\n",
    "compteur=3\n",
    "while question_2 != \"1976\" :\n",
    "    compteur-=1\n",
    "    if compteur !=0 :\n",
    "        print(f'Too bad! That is not the correct answer. You have {compteur} chances left')\n",
    "        question_2 = input(\"When he was born ?\")\n",
    "    else :\n",
    "        print(\"Oh no, you lost the quiz...\")\n",
    "        break\n",
    "if question_2 ==\"1976\" :\n",
    "    print(\"Bravo, you got this right.\")\n",
    "        \n",
    "question_3 =input(\"Who is the father of Apple ?\")\n",
    "compteur=3\n",
    "while question_3 != \"Steve Jobs\" :\n",
    "    compteur-=1\n",
    "    if compteur !=0 :\n",
    "        print(f'Too bad! That is not the correct answer. You have {compteur} chances left')\n",
    "        question_3 = input(\"When he was born ?\")\n",
    "    else :\n",
    "        print(\"Oh no, you lost the quiz...\")\n",
    "        break\n",
    "if question_3 ==\"Steve Jobs\" :\n",
    "    print(\"Bravo, you got all right.\")"
   ]
  },
  {
   "cell_type": "markdown",
   "metadata": {
    "colab_type": "text",
    "id": "sLMbYgaOyxiX"
   },
   "source": [
    "There's a problem with our quizz : if the user has not given the right answer, the program goes to next question. We would rather like to ask again the same question if the answer was wrong.\n",
    "\n",
    "5. Using a `while` loop, make sure that the same question will be asked again when the answer was wrong\n",
    "\n",
    "6. Rewrite your code such that this behaviour is applied to all questions."
   ]
  },
  {
   "cell_type": "code",
   "execution_count": 2,
   "metadata": {
    "colab": {
     "base_uri": "https://localhost:8080/",
     "height": 170
    },
    "colab_type": "code",
    "id": "csyxqJzBxPfN",
    "outputId": "0e671bec-2b70-424e-f110-d4792423dd7a"
   },
   "outputs": [
    {
     "name": "stdout",
     "output_type": "stream",
     "text": [
      "Here you have our quiz !\n",
      "-------\n",
      "\n",
      "Question 1\n",
      "Your answer : 3\n",
      "Too bad! That is not the correct answer\n",
      "Your answer : 2\n",
      "Good job! This is the right answer\n",
      "\n",
      "Question 2\n",
      "Your answer : 1976\n",
      "Good job! This is the right answer\n",
      "\n",
      "Question 3\n",
      "Your answer : elon musk\n",
      "Good job! This is the right answer\n",
      "\n",
      "Well done! You are the quiz winner!\n"
     ]
    }
   ],
   "source": []
  },
  {
   "cell_type": "markdown",
   "metadata": {
    "colab_type": "text",
    "id": "nh4voWn8x3dM"
   },
   "source": [
    "Now, we would like to tackle a last problem : we want to allow only 3 wrong answers (among all questions).\n",
    "\n",
    "7. Improve your code : if the user makes 3 wrong answers, the program should stop and print (\"Too bad, you lost the game !\")\n"
   ]
  },
  {
   "cell_type": "code",
   "execution_count": 3,
   "metadata": {
    "colab": {
     "base_uri": "https://localhost:8080/",
     "height": 170
    },
    "colab_type": "code",
    "id": "adKPQe1Hsi2g",
    "outputId": "45d36fc8-90ae-4f00-b73a-73b1e6e57e6e",
    "tags": []
   },
   "outputs": [
    {
     "name": "stdout",
     "output_type": "stream",
     "text": [
      "Welcome to our quizz!\n",
      "You have 3 lives.\n",
      "\n",
      "Question 1:\n",
      "Your answer : 6\n",
      "Sorry, you have 2 chances left\n",
      "Your answer : 2\n",
      "Question 2:\n",
      "Your answer : 1980\n",
      "Sorry, you have 1 chances left\n",
      "Your answer : 1976\n",
      "Question 3:\n",
      "Your answer : steve jobs\n",
      "Sorry, you have 0 chances left\n",
      "Oh no, you lost the quiz...\n"
     ]
    }
   ],
   "source": []
  },
  {
   "cell_type": "code",
   "execution_count": 9,
   "metadata": {
    "colab": {},
    "colab_type": "code",
    "id": "rA-XJKh-orgc"
   },
   "outputs": [
    {
     "name": "stdout",
     "output_type": "stream",
     "text": [
      "Too bad! That is not the correct answer. You have 2 chances left\n",
      "Too bad! That is not the correct answer. You have 1 chances left\n",
      "Oh no, you lost the quiz...\n"
     ]
    }
   ],
   "source": [
    "# définition des variables\n",
    "compteur=3\n",
    "\n",
    "# Question 1\n",
    "\n",
    "question_1 =input(\"Who bosses Tesla ?\")\n",
    "\n",
    "while question_1 != \"Elon Musk\" and  \"elon musk\":\n",
    "    compteur-=1\n",
    "    if compteur !=0 :\n",
    "        print(f'Too bad! That is not the correct answer. You have {compteur} chances left')\n",
    "        question_1 = input(\"Who bosses Tesla ?\")\n",
    "    else :\n",
    "        print(\"Oh no, you lost the quiz...\")\n",
    "        break\n",
    "if question_1 ==\"Elon Musk\" :\n",
    "    print(\"Bravo, you got this right. Let's continue with the second question\")\n",
    "\n",
    "# Si le compteur est >0 --> on passe à la question 2\n",
    "if compteur>0:\n",
    "\n",
    "# Question 2\n",
    "    question_2 =input(\"When he was born ?\")\n",
    "\n",
    "    while question_2 != \"1976\" :\n",
    "        compteur-=1\n",
    "        if compteur !=0 :\n",
    "            print(f'Too bad! That is not the correct answer. You have {compteur} chances left')\n",
    "            question_2 = input(\"When he was born ?\")\n",
    "        else :\n",
    "            print(\"Oh no, you lost the quiz...\")\n",
    "            break\n",
    "    if question_2 ==\"1976\" :\n",
    "        print(\"Bravo, you got this right.\")\n",
    "\n",
    "# Si le compteur est >0 --> on passe à la question 2\n",
    "if compteur>0:\n",
    "\n",
    "# Question 3\n",
    "    question_3 =input(\"Who is the father of Apple ?\")\n",
    "\n",
    "    while question_3 != \"Steve Jobs\" :\n",
    "        compteur-=1\n",
    "        if compteur !=0 :\n",
    "            print(f'Too bad! That is not the correct answer. You have {compteur} chances left')\n",
    "            question_3 = input(\"When he was born ?\")\n",
    "        else :\n",
    "            print(\"Oh no, you lost the quiz...\")\n",
    "            break\n",
    "    if question_3 ==\"Steve Jobs\" :\n",
    "        print(\"Bravo, you got all right.\")"
   ]
  }
 ],
 "metadata": {
  "colab": {
   "name": "Construire un quiz - SOLUTIONS S1-1A.ipynb",
   "provenance": []
  },
  "kernelspec": {
   "display_name": "Python 3.7.6 64-bit (conda)",
   "metadata": {
    "interpreter": {
     "hash": "81922e58b9f0765dc46a2f2aae6246790c134fff12037142dafdcc4c4ca17485"
    }
   },
   "name": "python3"
  },
  "language_info": {
   "codemirror_mode": {
    "name": "ipython",
    "version": 3
   },
   "file_extension": ".py",
   "mimetype": "text/x-python",
   "name": "python",
   "nbconvert_exporter": "python",
   "pygments_lexer": "ipython3",
   "version": "3.9.13"
  }
 },
 "nbformat": 4,
 "nbformat_minor": 1
}
